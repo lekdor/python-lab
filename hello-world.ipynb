{
 "cells": [
  {
   "cell_type": "markdown",
   "id": "19a17ac6-256c-4e52-853f-312aff70a1fa",
   "metadata": {},
   "source": [
    "# First Jupyter Notebook\n",
    "\n",
    "This is my first jupyter 📒."
   ]
  },
  {
   "cell_type": "code",
   "execution_count": 1,
   "id": "0718783a-43c7-46d0-a099-b935b0a3e28d",
   "metadata": {
    "tags": []
   },
   "outputs": [
    {
     "name": "stdout",
     "output_type": "stream",
     "text": [
      "Hello world\n"
     ]
    }
   ],
   "source": [
    "print(\"Hello world\")"
   ]
  },
  {
   "cell_type": "code",
   "execution_count": 2,
   "id": "dad5f947-ae03-438f-b839-753ced10e98a",
   "metadata": {
    "tags": []
   },
   "outputs": [
    {
     "name": "stdout",
     "output_type": "stream",
     "text": [
      "Hello world\n"
     ]
    }
   ],
   "source": [
    "# hello world again\n",
    "print(\"Hello world\")\n"
   ]
  }
 ],
 "metadata": {
  "kernelspec": {
   "display_name": "Python 3 (ipykernel)",
   "language": "python",
   "name": "python3"
  },
  "language_info": {
   "codemirror_mode": {
    "name": "ipython",
    "version": 3
   },
   "file_extension": ".py",
   "mimetype": "text/x-python",
   "name": "python",
   "nbconvert_exporter": "python",
   "pygments_lexer": "ipython3",
   "version": "3.11.4"
  }
 },
 "nbformat": 4,
 "nbformat_minor": 5
}
